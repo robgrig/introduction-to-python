{
 "cells": [
  {
   "cell_type": "markdown",
   "metadata": {},
   "source": [
    "# Modules and Packages"
   ]
  },
  {
   "cell_type": "markdown",
   "metadata": {},
   "source": [
    "### Module-ը software-ի մի կտոր է, որն ունի կոնկրետ ֆունկցիա. Օրինակ եթե ուզում ենք գրել ping pong խաղը, մի module-ը կարող է պատասխանատու լինել խաղի տրամաբանության համար, իսկ մյուսը խաղը էկրանին ցուցադրելու համար: Ամեն module-ը առանձին .py ֆայլ է: "
   ]
  },
  {
   "cell_type": "markdown",
   "metadata": {},
   "source": [
    "## Writing modules\n",
    "Python-ի module-ները ուղղակի .py ֆայլեր են. Ֆայլի անունը հենց module-ի անունն է: Python-ի module-ը կարող է ունենալ ֆունկցիաներ, class-ներ ու փոփոխականներ: ping pong-ի խաղի օրինակում մենք կունենանք 2 ֆայլ՝\n",
    "\n",
    "```python\n",
    "mygame/\n",
    "mygame/game.py\n",
    "mygame/draw.py\n",
    "```"
   ]
  },
  {
   "cell_type": "markdown",
   "metadata": {},
   "source": [
    "```game.py```-ը պատասխանատու է լինելու խաղի կանոնների ու տրամաբանության համար ու օգտագործելու է ```draw.py``` ֆայլի ```draw_game``` ֆունկցիան խաղը էկրանին արտածելու համար: \n",
    "\n",
    "Module-ները import են արվում այլ module-ներից օգտագործելով import command-ը. \n",
    "\n",
    "```python\n",
    "# game.py\n",
    "# import the draw module\n",
    "import draw\n",
    "\n",
    "def play_game():\n",
    "    return 'play game'\n",
    "\n",
    "def main():\n",
    "    result = play_game()\n",
    "    draw.draw_game(result)\n",
    "\n",
    "\n",
    "# this means that if this script is executed, then \n",
    "# main() will be executed\n",
    "if __name__ == '__main__':\n",
    "    main()\n",
    "```\n",
    "    \n",
    "The ```draw``` module may look something like this:\n",
    "\n",
    "```python\n",
    "# draw.py\n",
    "\n",
    "def draw_game(res):\n",
    "    print(\"draw game\",res)\n",
    "\n",
    "def clear_screen(screen):\n",
    "    pass\n",
    "```"
   ]
  },
  {
   "cell_type": "markdown",
   "metadata": {},
   "source": [
    "```python\n",
    "\n",
    "```\n",
    "\n",
    "## Importing module objects to the current namespace\n",
    "```python\n",
    "# game.py\n",
    "# import the draw module\n",
    "from draw import draw_game\n",
    "\n",
    "def main():\n",
    "    result = play_game()\n",
    "    draw_game(result)\n",
    "```\n",
    "\n",
    "## Importing all objects from a module\n",
    "\n",
    "```python\n",
    "# game.py\n",
    "# import the draw module\n",
    "from draw import *\n",
    "\n",
    "def main():\n",
    "    result = play_game()\n",
    "    draw_game(result)\n",
    "```\n",
    "\n",
    "where ```*``` denotes importing everything from ```draw``` module\n",
    "\n",
    "## Custom import name\n",
    "If you don't like the name of the module, you can import it with a custom name\n",
    "\n",
    "```python\n",
    "import draw as drw\n",
    "\n",
    "```\n",
    "\n",
    "## Combining all\n",
    "```python\n",
    "from draw import draw_game as dg\n",
    "```"
   ]
  },
  {
   "cell_type": "markdown",
   "metadata": {},
   "source": [
    "## Extending module load path\n",
    "Կա մի քանի ձև, որոնցով մենք կարող ենք ցույց տալ Python-ի interpreter-ին թե որտեղ փնտրել module-ները, բացի default-ից, որն է տվյալ directory-ն ու built-in module-ները. \n",
    "\n",
    "\n",
    "One method is the ```sys.path.append``` function. You may execute it **before** running an ```import``` command:\n",
    "\n",
    "\n",
    "```python\n",
    "sys.path.append(\"foo\")\n",
    "```\n",
    "This will add the foo directory to the list of paths to look for modules in as well.\n",
    "\n",
    "## Exploring built-in modules\n",
    "\n",
    "Two very important functions come in handy when exploring modules in Python - the ```dir``` and ```help``` functions, which we met earlier.\n",
    "\n",
    "If we want to ```import``` the module ```urllib```, which enables us to create and read data from URLs, we simply import the module:\n",
    "\n",
    "\n",
    "```python\n",
    "# import the library\n",
    "import urllib\n",
    "\n",
    "# use it\n",
    "urllib.urlopen(...)\n",
    "```"
   ]
  },
  {
   "cell_type": "code",
   "execution_count": 1,
   "metadata": {},
   "outputs": [
    {
     "data": {
      "text/plain": [
       "['__builtins__',\n",
       " '__cached__',\n",
       " '__doc__',\n",
       " '__file__',\n",
       " '__loader__',\n",
       " '__name__',\n",
       " '__package__',\n",
       " '__path__',\n",
       " '__spec__',\n",
       " 'parse']"
      ]
     },
     "execution_count": 1,
     "metadata": {},
     "output_type": "execute_result"
    }
   ],
   "source": [
    "import urllib\n",
    "dir(urllib)"
   ]
  },
  {
   "cell_type": "code",
   "execution_count": 3,
   "metadata": {},
   "outputs": [
    {
     "data": {
      "text/plain": [
       "4.0"
      ]
     },
     "execution_count": 3,
     "metadata": {},
     "output_type": "execute_result"
    }
   ],
   "source": [
    "import math\n",
    "math.sqrt(16)"
   ]
  }
 ],
 "metadata": {
  "kernelspec": {
   "display_name": "Python 3",
   "language": "python",
   "name": "python3"
  },
  "language_info": {
   "codemirror_mode": {
    "name": "ipython",
    "version": 3
   },
   "file_extension": ".py",
   "mimetype": "text/x-python",
   "name": "python",
   "nbconvert_exporter": "python",
   "pygments_lexer": "ipython3",
   "version": "3.7.3"
  }
 },
 "nbformat": 4,
 "nbformat_minor": 2
}
