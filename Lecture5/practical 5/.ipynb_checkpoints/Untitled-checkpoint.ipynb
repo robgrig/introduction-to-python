{
 "cells": [
  {
   "cell_type": "code",
   "execution_count": 8,
   "metadata": {},
   "outputs": [
    {
     "name": "stdout",
     "output_type": "stream",
     "text": [
      "11.666666666666666\n"
     ]
    }
   ],
   "source": [
    "#1\n",
    "def mid(i1,i2,i3):\n",
    "    z=i1+i2+i3\n",
    "    return z/3\n",
    "print(mid(5,10,20))"
   ]
  },
  {
   "cell_type": "code",
   "execution_count": 28,
   "metadata": {},
   "outputs": [
    {
     "name": "stdout",
     "output_type": "stream",
     "text": [
      "4\n"
     ]
    }
   ],
   "source": [
    "#2\n",
    "def flan(*argv):\n",
    "    for arg in argv:\n",
    "        if arg%2==0:\n",
    "            print(arg)\n",
    "#flan()\n",
    "flan(1,3,4)"
   ]
  },
  {
   "cell_type": "code",
   "execution_count": 51,
   "metadata": {
    "scrolled": true
   },
   "outputs": [
    {
     "name": "stdout",
     "output_type": "stream",
     "text": [
      "False\n"
     ]
    }
   ],
   "source": [
    "#3\n",
    "def check (pas):\n",
    "    a=0\n",
    "    if len(pas)>=10:\n",
    "        for i in pas:\n",
    "            if i.isdigit():\n",
    "                a+=1\n",
    "    if a>=2:\n",
    "        print(\"True\")\n",
    "    else:\n",
    "        print(\"False\")\n",
    "check(\"sa\")"
   ]
  },
  {
   "cell_type": "code",
   "execution_count": 71,
   "metadata": {},
   "outputs": [
    {
     "name": "stdout",
     "output_type": "stream",
     "text": [
      "in kwargs:  key: m , value: 1\n",
      "in kwargs:  key: k , value: 2\n"
     ]
    }
   ],
   "source": [
    "#6\n",
    "def flan(user,**keywod):\n",
    "    if user==\"admin\":\n",
    "        for key, value in keywod.items():\n",
    "            print(\"in kwargs: \", \"key:\", key, \", value:\", value)\n",
    "    else:\n",
    "        print(\"access denied to the user \"+ user)\n",
    "flan(\"admin\", m=1, k=2)"
   ]
  },
  {
   "cell_type": "code",
   "execution_count": 16,
   "metadata": {},
   "outputs": [
    {
     "name": "stdout",
     "output_type": "stream",
     "text": [
      "x g\n"
     ]
    }
   ],
   "source": [
    "#4\n",
    "def flan(name,greeting=\"welcome to the jungle\"):\n",
    "    print(name,greeting)\n",
    "flan (\"x\",\"g\")"
   ]
  },
  {
   "cell_type": "code",
   "execution_count": 56,
   "metadata": {},
   "outputs": [
    {
     "name": "stdout",
     "output_type": "stream",
     "text": [
      "jonik your average grade is  14.0\n"
     ]
    }
   ],
   "source": [
    "def test_func(a1, *argv):\n",
    "    x=0\n",
    "    y=0\n",
    "    for arg in argv:\n",
    "        x=x+int(arg)\n",
    "        y=y+1\n",
    "    print(a1,\"your average grade is \",x/y)\n",
    "test_func(\"jonik\",\"4\",\"5\",\"44\",\"3\")"
   ]
  },
  {
   "cell_type": "code",
   "execution_count": 108,
   "metadata": {},
   "outputs": [
    {
     "ename": "SyntaxError",
     "evalue": "invalid syntax (<ipython-input-108-bb774d1c57d3>, line 5)",
     "output_type": "error",
     "traceback": [
      "\u001b[1;36m  File \u001b[1;32m\"<ipython-input-108-bb774d1c57d3>\"\u001b[1;36m, line \u001b[1;32m5\u001b[0m\n\u001b[1;33m    print next (s)\u001b[0m\n\u001b[1;37m             ^\u001b[0m\n\u001b[1;31mSyntaxError\u001b[0m\u001b[1;31m:\u001b[0m invalid syntax\n"
     ]
    }
   ],
   "source": [
    "def iter_num(n):\n",
    "    for i in n:\n",
    "        yield (i)\n",
    "s=iter_num([1,3,5])\n",
    "print next (s)\n"
   ]
  }
 ],
 "metadata": {
  "kernelspec": {
   "display_name": "Python 3",
   "language": "python",
   "name": "python3"
  },
  "language_info": {
   "codemirror_mode": {
    "name": "ipython",
    "version": 3
   },
   "file_extension": ".py",
   "mimetype": "text/x-python",
   "name": "python",
   "nbconvert_exporter": "python",
   "pygments_lexer": "ipython3",
   "version": "3.7.3"
  }
 },
 "nbformat": 4,
 "nbformat_minor": 2
}
