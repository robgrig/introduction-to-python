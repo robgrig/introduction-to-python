{
 "cells": [
  {
   "cell_type": "code",
   "execution_count": 4,
   "metadata": {},
   "outputs": [
    {
     "name": "stdout",
     "output_type": "stream",
     "text": [
      "23432432\n",
      "-44\n"
     ]
    }
   ],
   "source": [
    "#1\n",
    "def max1(*args):\n",
    "    print (max(args))\n",
    "    print(min(args))\n",
    "max1(1,4,4,333,4,23432432,3,3,4,5,-44)\n",
    "    "
   ]
  },
  {
   "cell_type": "code",
   "execution_count": 24,
   "metadata": {},
   "outputs": [
    {
     "name": "stdout",
     "output_type": "stream",
     "text": [
      "{3, 4, 5, 44, 21, 55}\n"
     ]
    }
   ],
   "source": [
    "#2\n",
    "def list1(*argv):\n",
    "    list2=argv\n",
    "    print(set(list2))\n",
    "list1(3,4,5,4,3,21,3,3,44,3,55)\n",
    "\n"
   ]
  },
  {
   "cell_type": "code",
   "execution_count": 86,
   "metadata": {},
   "outputs": [
    {
     "name": "stdout",
     "output_type": "stream",
     "text": [
      "before function call  \n",
      "inside the function\n",
      "after the fanction call\n"
     ]
    }
   ],
   "source": [
    "#3\n",
    "def decor(fu):\n",
    "    def wrapper(*args, **kwargs):\n",
    "        print(\"before function call  \"+\"\\n\"+fu(*args, **kwargs)+\"\\n\"+\"after the fanction call\")\n",
    "    return wrapper\n",
    "\n",
    "\n",
    "@decor\n",
    "def text():\n",
    "    return(\"inside the function\")\n",
    "\n",
    "text()\n"
   ]
  },
  {
   "cell_type": "code",
   "execution_count": 100,
   "metadata": {},
   "outputs": [
    {
     "data": {
      "text/plain": [
       "'<u> hi ,its me!</u>'"
      ]
     },
     "execution_count": 100,
     "metadata": {},
     "output_type": "execute_result"
    }
   ],
   "source": [
    "#4\n",
    "def decor(fu):\n",
    "    def wrapped(*args, **kwergs):\n",
    "        return(\"<u> \"+fu(*args, **kwergs)+\"</u>\")\n",
    "    return wrapped\n",
    "\n",
    "def decor2(fun):\n",
    "    def wrapped(*args, **kwergs):\n",
    "        return(fun(*args, **kwergs)+\" ,its me!\")\n",
    "    return wrapped\n",
    "\n",
    "@decor\n",
    "@decor2\n",
    "def text():\n",
    "    return(\"hi\")\n",
    "\n",
    "text()\n"
   ]
  },
  {
   "cell_type": "code",
   "execution_count": 6,
   "metadata": {},
   "outputs": [
    {
     "name": "stdout",
     "output_type": "stream",
     "text": [
      "1\n"
     ]
    }
   ],
   "source": [
    "#5\n",
    "def iter_num(n):\n",
    "    for i in range(1,n+1):\n",
    "        yield i\n",
    "    yield(\"there is no vaues left\")\n",
    "\n",
    "a=iter_num(8)\n",
    "print(next(a))"
   ]
  },
  {
   "cell_type": "code",
   "execution_count": 18,
   "metadata": {},
   "outputs": [
    {
     "ename": "StopIteration",
     "evalue": "",
     "output_type": "error",
     "traceback": [
      "\u001b[1;31m---------------------------------------------------------------------------\u001b[0m",
      "\u001b[1;31mStopIteration\u001b[0m                             Traceback (most recent call last)",
      "\u001b[1;32m<ipython-input-18-94b12d3903f7>\u001b[0m in \u001b[0;36m<module>\u001b[1;34m\u001b[0m\n\u001b[1;32m----> 1\u001b[1;33m \u001b[0mprint\u001b[0m\u001b[1;33m(\u001b[0m\u001b[0mnext\u001b[0m\u001b[1;33m(\u001b[0m\u001b[0ma\u001b[0m\u001b[1;33m)\u001b[0m\u001b[1;33m)\u001b[0m\u001b[1;33m\u001b[0m\u001b[1;33m\u001b[0m\u001b[0m\n\u001b[0m",
      "\u001b[1;31mStopIteration\u001b[0m: "
     ]
    }
   ],
   "source": [
    "print(next(a))"
   ]
  }
 ],
 "metadata": {
  "kernelspec": {
   "display_name": "Python 3",
   "language": "python",
   "name": "python3"
  },
  "language_info": {
   "codemirror_mode": {
    "name": "ipython",
    "version": 3
   },
   "file_extension": ".py",
   "mimetype": "text/x-python",
   "name": "python",
   "nbconvert_exporter": "python",
   "pygments_lexer": "ipython3",
   "version": "3.7.3"
  }
 },
 "nbformat": 4,
 "nbformat_minor": 2
}
