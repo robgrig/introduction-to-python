{
 "cells": [
  {
   "cell_type": "code",
   "execution_count": 34,
   "metadata": {
    "scrolled": true
   },
   "outputs": [
    {
     "name": "stdout",
     "output_type": "stream",
     "text": [
      "5 8\n",
      "[-2, -1, 0, 1, 4, 5, 7, 8]\n",
      "-2\n",
      "-1\n",
      "0\n",
      "-1\n",
      "0\n",
      "1\n",
      "4\n",
      "5\n",
      "[-2, 1, 4, 5, 7, 8]\n",
      "['broccoli', 'carrot', 'grapes', 'lemon', 'orange', 'potatoes', 'sausages', 'tomatoes']\n",
      "[-2, 1, 4, 'lemon', 'orange', 'potatoes']\n"
     ]
    }
   ],
   "source": [
    "list1=[1,4,5,7,8,-2,0,-1]\n",
    "print(list1[2],list1[4])\n",
    "a_sorted=list1\n",
    "a_sorted.sort()\n",
    "print(a_sorted)\n",
    "print(*a_sorted[0:3] ,*a_sorted[1:6],sep = \"\\n\")\n",
    "del a_sorted[1:3]\n",
    "print(a_sorted)\n",
    "b=[\"grapes\",\"potatoes\",\"tomatoes\",\"orange\",\"lemon\",\"broccoli\",\"carrot\",\"sausages\"]\n",
    "b_sorted=b\n",
    "b_sorted.sort()\n",
    "print(b_sorted)\n",
    "c=list1[0:3]+b[3:6]\n",
    "print(c)"
   ]
  },
  {
   "cell_type": "code",
   "execution_count": 96,
   "metadata": {
    "scrolled": true
   },
   "outputs": [
    {
     "name": "stdout",
     "output_type": "stream",
     "text": [
      "{False, True, 8, 'cookies', 'chocolate'}\n",
      "{False, True, 8, 'milk', 10, 14, 'jelly', 'chocolate'}\n",
      "{False, True, 8, 'milk', 10, 'cookies', 14, 'jelly', 'chocolate'}\n",
      "{False, True, 'chocolate', 8}\n",
      "{False, True, 8, 'milk', 10, ('kit-kat', 'oreo'), 'cookies', 14, 'jelly', 'chocolate'}\n",
      "{False, True, 'chocolate', 8}\n",
      "yes\n",
      "{False, True, 8}\n"
     ]
    }
   ],
   "source": [
    "#2\n",
    "a1=[\"cookies\",\"chocolate\",8,True,\"chocolate\",8,False,8]\n",
    "b1=[8,True,10,14,\"chocolate\",\"milk\",\"jelly\",True,False,True]\n",
    "set_a=set(a1)\n",
    "print(set_a)\n",
    "set_b=set(b1)\n",
    "print(set_b)\n",
    "union_ab= set_a.union(set_b)\n",
    "print(union_ab)\n",
    "intersection_ab=set_a.intersection(set_b)\n",
    "print(intersection_ab)\n",
    "flan=(\"kit-kat\",\"oreo\")\n",
    "union_ab.add(flan)\n",
    "print(union_ab)\n",
    "\n",
    "intersection_ab | union_ab\n",
    "newset=intersection_ab\n",
    "print(newset)\n",
    "if \"chocolate\" in new_set:\n",
    "        print(\"yes\")\n",
    "\n",
    "\n",
    "newset.remove(\"chocolate\")\n",
    "print(newset)\n",
    "\n",
    "\n",
    "\n"
   ]
  },
  {
   "cell_type": "code",
   "execution_count": 102,
   "metadata": {},
   "outputs": [
    {
     "name": "stdout",
     "output_type": "stream",
     "text": [
      "[1, 'a', -2, 'anna']\n",
      "a\n",
      "5\n"
     ]
    }
   ],
   "source": [
    "#3\n",
    "t1=(1,True,\"a\",-2,\"anna\")\n",
    "t1=list(t1)\n",
    "t1.pop(1)\n",
    "print(t1)\n",
    "t1=tuple(t1)\n",
    "t2=(1,2,3,4,5)\n",
    "t3=t1[:2]+t2[:3]\n",
    "print(t3[1])\n",
    "t4=[(1,3,5),(8,9),(\"anna\",\"bob\",\"alice\")]\n",
    "print(t4[0][2])"
   ]
  },
  {
   "cell_type": "code",
   "execution_count": 8,
   "metadata": {},
   "outputs": [
    {
     "name": "stdout",
     "output_type": "stream",
     "text": [
      "{'dairy': ['yogurt', 'cheese'], 'fruits': ['banana', 'apple', 'orange', 'lemon', 'apple', 'banana', 'banana']}\n",
      "{'orange', 'lemon', 'apple', 'banana'}\n"
     ]
    }
   ],
   "source": [
    "#4\n",
    "market = {\"dairy\": [\"yogurt\", \"cheese\"], \"fruits\": [\"banana\", \"apple\", \"orange\", \"lemon\", \"apple\", \"banana\", \"banana\"]}\n",
    "print(market)\n",
    "market[\"candies\"] = [\"mars\", \"kinder\", \"twix\"]\n",
    "a=list(market[\"fruits\"])\n",
    "a.sort ()\n",
    "a=set(a)\n",
    "print(a)"
   ]
  },
  {
   "cell_type": "code",
   "execution_count": null,
   "metadata": {},
   "outputs": [],
   "source": []
  }
 ],
 "metadata": {
  "kernelspec": {
   "display_name": "Python 3",
   "language": "python",
   "name": "python3"
  },
  "language_info": {
   "codemirror_mode": {
    "name": "ipython",
    "version": 3
   },
   "file_extension": ".py",
   "mimetype": "text/x-python",
   "name": "python",
   "nbconvert_exporter": "python",
   "pygments_lexer": "ipython3",
   "version": "3.7.3"
  }
 },
 "nbformat": 4,
 "nbformat_minor": 2
}
