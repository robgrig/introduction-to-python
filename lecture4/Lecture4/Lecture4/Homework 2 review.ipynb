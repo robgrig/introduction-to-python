{
 "cells": [
  {
   "cell_type": "markdown",
   "metadata": {},
   "source": [
    "# String vs Variable"
   ]
  },
  {
   "cell_type": "code",
   "execution_count": 1,
   "metadata": {},
   "outputs": [
    {
     "name": "stdout",
     "output_type": "stream",
     "text": [
      "some_text\n"
     ]
    }
   ],
   "source": [
    "print(\"some_text\")"
   ]
  },
  {
   "cell_type": "code",
   "execution_count": 2,
   "metadata": {},
   "outputs": [
    {
     "ename": "NameError",
     "evalue": "name 'some_text' is not defined",
     "output_type": "error",
     "traceback": [
      "\u001b[0;31m---------------------------------------------------------------------------\u001b[0m",
      "\u001b[0;31mNameError\u001b[0m                                 Traceback (most recent call last)",
      "\u001b[0;32m<ipython-input-2-a2c56fc0e1f7>\u001b[0m in \u001b[0;36m<module>\u001b[0;34m()\u001b[0m\n\u001b[0;32m----> 1\u001b[0;31m \u001b[0mprint\u001b[0m\u001b[0;34m(\u001b[0m\u001b[0msome_text\u001b[0m\u001b[0;34m)\u001b[0m\u001b[0;34m\u001b[0m\u001b[0;34m\u001b[0m\u001b[0m\n\u001b[0m",
      "\u001b[0;31mNameError\u001b[0m: name 'some_text' is not defined"
     ]
    }
   ],
   "source": [
    "print(some_text)"
   ]
  },
  {
   "cell_type": "markdown",
   "metadata": {},
   "source": [
    "```\n",
    "Dictionary keys cannot be modified. You have to create a new key with a value and then delete the old key.\n",
    "```"
   ]
  },
  {
   "cell_type": "markdown",
   "metadata": {},
   "source": [
    "## Problem 1"
   ]
  },
  {
   "cell_type": "markdown",
   "metadata": {},
   "source": [
    "```\n",
    "Ստեղծեք problem1.py script-ը, որը ստանում է num_y (տարիների թիվ) ու num_d (տարիների թիվ) որպես ոչ պարտադիր արգումենտներ (optional arguments) ու տպում է այսօրվա ամսաթիվը + տրված տարիների թիվ + տրված օրերի թիվ հետևյալ ֆորմատով՝\n",
    "\n",
    "“Current date: 2019-08-17 13:57:28.13050”\n",
    "“Given years: 2”\n",
    "“Given days: not given”\n",
    "“Final date: 2021-08-17 13:57:28.13050”\n",
    "\n",
    "```"
   ]
  },
  {
   "cell_type": "markdown",
   "metadata": {},
   "source": [
    "### You can use optional arguments only inside if"
   ]
  },
  {
   "cell_type": "code",
   "execution_count": null,
   "metadata": {},
   "outputs": [],
   "source": [
    "#copy and paste this into test.py\n",
    "import argparse\n",
    "import datetime\n",
    "import time\n",
    "\n",
    "\n",
    "parser = argparse.ArgumentParser()\n",
    "parser.add_argument(\"--num_y\", help=\"Enter the number of years\", type=int)\n",
    "parser.add_argument(\"--num_d\", help=\"Enter the number of days\", type=int)\n",
    "args = parser.parse_args()\n",
    "final_date = datetime.datetime.now()\n",
    "print(\"Current date: %s\" %final_date)\n",
    "\n",
    "if args.num_y:\n",
    "    delta = datetime.timedelta(days = 365*args.num_y)\n",
    "    final_date += delta\n",
    "    print(\"Given years: \", args.num_y)\n",
    "else:\n",
    "    print(\"Given years: \", \"not given\")\n",
    "\n",
    "if args.num_d:\n",
    "    delta = datetime.timedelta(days = args.num_d)\n",
    "    final_date += delta\n",
    "    print(\"Given days: \", args.num_d)\n",
    "else:\n",
    "    print(\"Given days: \", \"not given\")\n",
    "\n",
    "print(\"Final date: \", final_date)\n",
    " "
   ]
  },
  {
   "cell_type": "code",
   "execution_count": null,
   "metadata": {},
   "outputs": [],
   "source": [
    "run test.py"
   ]
  },
  {
   "cell_type": "markdown",
   "metadata": {},
   "source": [
    "## Problem 2"
   ]
  },
  {
   "cell_type": "markdown",
   "metadata": {},
   "source": [
    "### Only the middle 3 characters should be uppercase"
   ]
  },
  {
   "cell_type": "markdown",
   "metadata": {},
   "source": [
    "```\n",
    "Ստեղծեք problem2.py script-ը, որը ստանում է 7 և ավելի կենտ երկարության str String որպես պարտադիր արգումենտ (positional argument) ու տպում է տրված String-ի մեջտեղի 3 նիշերը ինչպես նաև ստեղծեք ու տպեք տրված String-ի նոր տարբերակը՝ մեջտեղի 3 նիշերը դարձնելով մեծատառ հետևյալ ֆորմատով՝ \n",
    "“The old string: abcdefghijk”\n",
    "“Middle 3 characters: efg”\n",
    "“The new string: abcdEFGhijk”\n",
    "\n",
    "```"
   ]
  },
  {
   "cell_type": "code",
   "execution_count": null,
   "metadata": {},
   "outputs": [],
   "source": [
    "#copy and paste into test.py\n",
    "import argparse\n",
    "parser = argparse.ArgumentParser()\n",
    "parser.add_argument(\"str\", help=\"Enter text with at least 7 letters and with odd length\", type=str)\n",
    "args = parser.parse_args()\n",
    "if len(args.str)<7 or len(args.str)%2==0:\n",
    "    print(\"Enter text with at least 7 letters and with odd length\")\n",
    "else:\n",
    "    print('The old string: %s' %args.str)\n",
    "    print('Middle 3 characters: ', args.str[len(args.str)//2-1:len(args.str)//2+2])\n",
    "    print(\"The new string: \", args.str[:len(args.str)//2-1]+args.str[len(args.str)//2-1:len(args.str)//2+2].upper()+args.str[len(args.str)//2+2:])"
   ]
  },
  {
   "cell_type": "code",
   "execution_count": null,
   "metadata": {},
   "outputs": [],
   "source": [
    "run test.py \"hcuiqwicq\""
   ]
  },
  {
   "cell_type": "markdown",
   "metadata": {},
   "source": [
    "## Problem 3"
   ]
  },
  {
   "cell_type": "markdown",
   "metadata": {},
   "source": [
    "```\n",
    "Ստեղծեք problem3.py script-ը, որը ստանում է String տիպի տեքստ ու երկու String տիպի բառեր որպես command line argument-ներ ու տպում է տրված տեքստի նոր տարբերակը՝ փոխարինելով առաջին բառը երկրորդով հետևյալ ֆորմատով՝\n",
    "\t\n",
    "\t“The given text: This is a sample text. ”\n",
    "\t“First word: text”\n",
    "\t“Second word: image”\n",
    "\t“Output string: This is a sample image. ”\n",
    "\n",
    "```"
   ]
  },
  {
   "cell_type": "code",
   "execution_count": null,
   "metadata": {},
   "outputs": [],
   "source": [
    "#credits to Lilit\n",
    "#copy and paste into test.py\n",
    "import argparse\n",
    "parser = argparse.ArgumentParser()\n",
    "parser.add_argument(\"str\", help=\"Enter the text\", type=str)\n",
    "parser.add_argument(\"word_1\", help=\"Enter the first word\", type=str)\n",
    "parser.add_argument(\"word_2\", help=\"Enter the second text\", type=str)\n",
    "args = parser.parse_args()\n",
    "\n",
    "print(\"The given text: \", args.str)\n",
    "print(\"First word: \", args.word_1)\n",
    "print(\"Second word: \", args.word_2)\n",
    "print(\"Output string: \", args.str.replace(args.word_1, args.word_2))"
   ]
  },
  {
   "cell_type": "markdown",
   "metadata": {},
   "source": [
    "## Problem 4"
   ]
  },
  {
   "cell_type": "markdown",
   "metadata": {},
   "source": [
    "```\n",
    "Ստեղծեք problem4.py script-ը, որը ստանում է text String տիպի պարտադիր արգումենտ (positional argument), գտնում է թե քանի անգամ է տրված տեքստում կրկնվում “USA” բառը փոքրատառերով կամ մեծատառերով, ինչպես նաև փոխարինում է “USA” բառը “Armenia” բառով ու տպում ստացված տեքստը հետևյալ ֆորմատով՝ \n",
    "“The given string: Welcome to USA. usa is awesome, isn’t it?”\n",
    "“The USA count is: 2”\n",
    "“The new string: Welcome to Armenia. Armenia is awesome, isn’t it?”\n",
    "\n",
    "```"
   ]
  },
  {
   "cell_type": "code",
   "execution_count": null,
   "metadata": {},
   "outputs": [],
   "source": [
    "import argparse\n",
    "parser = argparse.ArgumentParser()\n",
    "parser.add_argument(\"text\", help=\"Enter the text\", type=str)\n",
    "args = parser.parse_args()\n",
    "print(\"The given string: \", args.text)\n",
    "print(\"The USA count is: \", args.text.lower().count(\"usa\"))\n",
    "\n",
    "#option 1, but in this case the whole sentence is written woth lower\n",
    "#print(\"The new string: \", args.text.lower().replace(\"usa\", \"Armenia\"))\n",
    "\n",
    "#Oprtion 2\n",
    "print(\"The new string: \", args.text.replace(\"USA\", \"Armenia\").replace(\"USa\", \"Armenia\").replace(\"UsA\", \"Armenia\").replace(\"Usa\", \"Armenia\").replace(\"uSA\", \"Armenia\").replace(\"uSa\", \"Armenia\").replace(\"usA\", \"Armenia\").replace(\"usa\", \"Armenia\"))"
   ]
  },
  {
   "cell_type": "markdown",
   "metadata": {},
   "source": [
    "## Problem 5 - no mistakes"
   ]
  }
 ],
 "metadata": {
  "kernelspec": {
   "display_name": "Python 3",
   "language": "python",
   "name": "python3"
  },
  "language_info": {
   "codemirror_mode": {
    "name": "ipython",
    "version": 3
   },
   "file_extension": ".py",
   "mimetype": "text/x-python",
   "name": "python",
   "nbconvert_exporter": "python",
   "pygments_lexer": "ipython3",
   "version": "3.7.2"
  }
 },
 "nbformat": 4,
 "nbformat_minor": 2
}
