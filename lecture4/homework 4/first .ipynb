{
 "cells": [
  {
   "cell_type": "code",
   "execution_count": 20,
   "metadata": {},
   "outputs": [
    {
     "name": "stdout",
     "output_type": "stream",
     "text": [
      "n_shoes44\n",
      "44\n",
      "you get a discount\n"
     ]
    }
   ],
   "source": [
    "#1\n",
    "n=int(input(\"n_shoes\"))\n",
    "print(n)\n",
    "if n>10:\n",
    "    print(\"you get a discount\")\n",
    "else:\n",
    "    print(\"you dont get a discount\")"
   ]
  },
  {
   "cell_type": "code",
   "execution_count": 30,
   "metadata": {},
   "outputs": [
    {
     "name": "stdout",
     "output_type": "stream",
     "text": [
      "[10, 8, 8, 4, 6, 7]\n",
      "good job\n"
     ]
    }
   ],
   "source": [
    "#2\n",
    "import numpy as np\n",
    "d={\"name\": \"Armen\", \"age\": 15, \"grades\": [10, 8, 8,4, 6, 7]}\n",
    "list1=d[\"grades\"]\n",
    "print(list1)\n",
    "x=np.mean(list1)\n",
    "if x>7:\n",
    "    print(\"good job\")\n",
    "else:\n",
    "    print(\"you need to work more\")\n"
   ]
  },
  {
   "cell_type": "code",
   "execution_count": 39,
   "metadata": {},
   "outputs": [
    {
     "name": "stdout",
     "output_type": "stream",
     "text": [
      "1\n",
      "3\n",
      "5\n",
      "7\n",
      "9\n"
     ]
    }
   ],
   "source": [
    "#3\n",
    "for x in range(0, 10):\n",
    "    if x%2==0:\n",
    "        continue\n",
    "    print(x)"
   ]
  },
  {
   "cell_type": "code",
   "execution_count": 46,
   "metadata": {},
   "outputs": [
    {
     "name": "stdout",
     "output_type": "stream",
     "text": [
      "1\n",
      "3\n",
      "5\n",
      "7\n",
      "9\n"
     ]
    }
   ],
   "source": [
    "#4\n",
    "list1=[1,3,5,7,9,11,13,15]\n",
    "list2=[4,6,14,11,8,16]\n",
    "for x in list1:\n",
    "    #print(x)\n",
    "    if x in list2:\n",
    "        break\n",
    "    else:\n",
    "        print(x)"
   ]
  },
  {
   "cell_type": "code",
   "execution_count": 63,
   "metadata": {},
   "outputs": [
    {
     "name": "stdout",
     "output_type": "stream",
     "text": [
      "desert44\n",
      "Please choose another desert\n",
      "desert5\n",
      "Please choose another desert\n",
      "desertice cream\n",
      "Please choose another desert\n",
      "Yourdesert will arrive in 10 minutes\n"
     ]
    }
   ],
   "source": [
    "#5\n",
    "menu=['ice cream','chocolate','apple crisp','cookies']\n",
    "desert=\"ff\"\n",
    "while desert not in menu:\n",
    "    desert=input(\"desert\")\n",
    "    print(\"Please choose another desert\")\n",
    "print(\"Yourdesert will arrive in 10 minutes\")"
   ]
  },
  {
   "cell_type": "code",
   "execution_count": 7,
   "metadata": {},
   "outputs": [
    {
     "name": "stdout",
     "output_type": "stream",
     "text": [
      "3\n"
     ]
    }
   ],
   "source": [
    "list1=[4,5,45,678,3,2,5,78,6,7,8]\n",
    "a=0\n",
    "M = [x for x in list1 if x > 5 and x<10]\n",
    "print(len(M))"
   ]
  },
  {
   "cell_type": "code",
   "execution_count": 21,
   "metadata": {},
   "outputs": [
    {
     "name": "stdout",
     "output_type": "stream",
     "text": [
      "[[10, 20, 100], [40, 50, 100], [70, 80, 100]]\n"
     ]
    }
   ],
   "source": [
    "list4=[[10,20,40],[40,50,60],[70,80,90]]\n",
    "#print(list4)\n",
    "M = [x[:2]+[100] for x in list4]\n",
    "print(M)"
   ]
  }
 ],
 "metadata": {
  "kernelspec": {
   "display_name": "Python 3",
   "language": "python",
   "name": "python3"
  },
  "language_info": {
   "codemirror_mode": {
    "name": "ipython",
    "version": 3
   },
   "file_extension": ".py",
   "mimetype": "text/x-python",
   "name": "python",
   "nbconvert_exporter": "python",
   "pygments_lexer": "ipython3",
   "version": "3.7.3"
  }
 },
 "nbformat": 4,
 "nbformat_minor": 2
}
