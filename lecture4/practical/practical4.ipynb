{
 "cells": [
  {
   "cell_type": "code",
   "execution_count": null,
   "metadata": {},
   "outputs": [],
   "source": [
    "#1\n",
    "a=int(input(\"a=\"))\n",
    "b=int(input(\"b=\"))\n",
    "print(a,b)\n",
    "if a>b:\n",
    "    print(a)\n",
    "    print(\"the number\", a ,\"is the greateast\")\n",
    "else:\n",
    "    print(b)\n",
    "    print(\"the number\", b, \"is the greateast\")"
   ]
  },
  {
   "cell_type": "code",
   "execution_count": null,
   "metadata": {},
   "outputs": [],
   "source": [
    "#5\n",
    "for i in range(100):\n",
    "    if i%2==1:\n",
    "          print(i)"
   ]
  },
  {
   "cell_type": "code",
   "execution_count": null,
   "metadata": {},
   "outputs": [],
   "source": [
    "#10\n",
    "list=[7,8,120,25,44,20,27]\n",
    "print(list)\n",
    "odds= [n for n in list if n%2==1]\n",
    "print(odds)"
   ]
  },
  {
   "cell_type": "code",
   "execution_count": null,
   "metadata": {},
   "outputs": [],
   "source": [
    "#12\n",
    "list1=[2,3,456,788,65]\n",
    "print(list1)\n",
    "list2= [n for n in list1 if n>20]\n",
    "print(list2)"
   ]
  },
  {
   "cell_type": "code",
   "execution_count": null,
   "metadata": {},
   "outputs": [],
   "source": [
    "#14\n",
    "list1=[\"al\",\"a\",\"0\",\"as\",\"aba\",\"1221\"]\n",
    "print(list1)\n",
    "list2=[n for n in list1 if len(n)>=2 and n[0]==n[-1]]\n",
    "print(list2)\n"
   ]
  },
  {
   "cell_type": "code",
   "execution_count": null,
   "metadata": {},
   "outputs": [],
   "source": [
    "#7\n",
    "for i in range(1,20):\n",
    "    if i%3==0 and i%5==0:\n",
    "        break\n",
    "print(i)"
   ]
  },
  {
   "cell_type": "code",
   "execution_count": null,
   "metadata": {},
   "outputs": [],
   "source": [
    "#9\n",
    "corrent_num=5 \n",
    "print(\"corrent_num=5\")\n",
    "i=0\n",
    "while i<10:\n",
    "    guess=int(input(\"\"))\n",
    "    if guess==corrent_num:\n",
    "       break  \n",
    "    else:\n",
    "        i+=1\n",
    "print(\"that was a good guess!\")"
   ]
  },
  {
   "cell_type": "code",
   "execution_count": 11,
   "metadata": {},
   "outputs": [
    {
     "name": "stdout",
     "output_type": "stream",
     "text": [
      "name fdsfsda\n",
      "age 20\n",
      "password dffdsfdf\n",
      "please enter a different pasword\n"
     ]
    }
   ],
   "source": [
    "#3\n",
    "name=input(\"name \")\n",
    "age=int(input(\"age \"))\n",
    "password=input(\"password \")\n",
    "if name==\"Robert\":\n",
    "    print(\"welcome MR.Robert\")\n",
    "elif age<16:\n",
    "    print(\"Dear\",name,\"you are too young to register\")\n",
    "elif \"*\" not in password or \"&\" not in password:\n",
    "    print(\"please enter a different pasword\")"
   ]
  },
  {
   "cell_type": "code",
   "execution_count": 32,
   "metadata": {},
   "outputs": [
    {
     "name": "stdout",
     "output_type": "stream",
     "text": [
      "{'dsfsd': 'Armen', 'age': 15, 'grades': [10, 8, 8, 4, 6, 7], 'weight': '90'}\n"
     ]
    }
   ],
   "source": [
    "#4\n",
    "d={\"name\": \"Armen\", \"age\": 15,\"grades\": [10, 8, 8, 4, 6, 7]}\n",
    "#print(d)\n",
    "#print(d['name'])\n",
    "if'weight' in d.keys():\n",
    "    print(d['weight'])\n",
    "else:\n",
    "    d['weight']='90'\n",
    "    print(d)"
   ]
  }
 ],
 "metadata": {
  "kernelspec": {
   "display_name": "Python 3",
   "language": "python",
   "name": "python3"
  },
  "language_info": {
   "codemirror_mode": {
    "name": "ipython",
    "version": 3
   },
   "file_extension": ".py",
   "mimetype": "text/x-python",
   "name": "python",
   "nbconvert_exporter": "python",
   "pygments_lexer": "ipython3",
   "version": "3.7.3"
  }
 },
 "nbformat": 4,
 "nbformat_minor": 2
}
