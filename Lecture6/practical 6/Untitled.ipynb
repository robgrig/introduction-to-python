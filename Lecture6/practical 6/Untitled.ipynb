{
 "cells": [
  {
   "cell_type": "code",
   "execution_count": 27,
   "metadata": {},
   "outputs": [
    {
     "name": "stdout",
     "output_type": "stream",
     "text": [
      "A red circle with radius 50\n"
     ]
    }
   ],
   "source": [
    "class circle:\n",
    "    def __init__(self,radius,color):\n",
    "        self.radius = radius\n",
    "        self.color = color\n",
    "        \n",
    "    def get_desc(self):\n",
    "        print(\"A \"+self.color+\" circle with radius \"+ self.radius)    \n",
    "\n",
    "emp1=circle(\"50\",\"red\")\n",
    "emp1.get_desc()\n"
   ]
  },
  {
   "cell_type": "code",
   "execution_count": 38,
   "metadata": {},
   "outputs": [
    {
     "name": "stdout",
     "output_type": "stream",
     "text": [
      "fsdfdfsao\n",
      "FSDFDFSAO\n"
     ]
    }
   ],
   "source": [
    "#2\n",
    "class asdf:\n",
    "    def get_string(self):\n",
    "        self.text=input(\"\")\n",
    "        \n",
    "    def print_string(self):\n",
    "        print(self.text.upper())\n",
    "\n",
    "emp=asdf()\n",
    "emp.get_string()\n",
    "emp.print_string()"
   ]
  },
  {
   "cell_type": "code",
   "execution_count": 44,
   "metadata": {},
   "outputs": [
    {
     "name": "stdout",
     "output_type": "stream",
     "text": [
      "Robert Grigoryan\n",
      "high\n"
     ]
    }
   ],
   "source": [
    "#3\n",
    "class employee:\n",
    "    def __init__(self,name,last_name,monthly_salary):\n",
    "        self.name=name\n",
    "        self.last_name=last_name\n",
    "        self.__monthly_salary=monthly_salary\n",
    "        \n",
    "    def getFullName(self):\n",
    "        print(self.name,self.last_name)\n",
    "        \n",
    "    def annualSalary(self):\n",
    "        if self.__monthly_salary>8.3:\n",
    "            print(\"high\")\n",
    "        else:\n",
    "            print(\"low\")\n",
    "                \n",
    "fstan=employee(\"Robert\",\"Grigoryan\",1000000000000000000000)\n",
    "fstan.getFullName()\n",
    "fstan.annualSalary()"
   ]
  },
  {
   "cell_type": "code",
   "execution_count": 48,
   "metadata": {},
   "outputs": [
    {
     "name": "stdout",
     "output_type": "stream",
     "text": [
      "car2 is bettre than car1\n"
     ]
    }
   ],
   "source": [
    "#4\n",
    "class car:\n",
    "    def __init__(self,model,color,max_speed):\n",
    "        self.model=model\n",
    "        self.color=color\n",
    "        self.max_speed=max_speed\n",
    "        \n",
    "    def compareCar(self,car2):\n",
    "        if self.max_speed>car2.max_speed:\n",
    "            print(\"car1 is bettre than car2\")\n",
    "        else:\n",
    "            print(\"car2 is bettre than car1\")\n",
    "            \n",
    "flan=car(\"BMW\",\"black\",\"300\")\n",
    "fstan=car(\"gazel\",\"white\",\"40\")\n",
    "flan.compareCar(fstan)"
   ]
  },
  {
   "cell_type": "code",
   "execution_count": 76,
   "metadata": {},
   "outputs": [
    {
     "name": "stdout",
     "output_type": "stream",
     "text": [
      "20.0\n",
      "Welcome to your car Vaxo\n"
     ]
    },
    {
     "data": {
      "text/plain": [
       "'admin'"
      ]
     },
     "execution_count": 76,
     "metadata": {},
     "output_type": "execute_result"
    }
   ],
   "source": [
    "#5\n",
    "class police_car:\n",
    "    \n",
    "    tax_value=0.2\n",
    "    \n",
    "    def __init__(self,owner,price,pass_code):\n",
    "        self.owner=owner\n",
    "        self.price=price\n",
    "        self.__pass_code=pass_code\n",
    "        \n",
    "    def set_pass_code(self, new_pass_code):\n",
    "        self.__pass_code = new_pass_code\n",
    "    \n",
    "    def get_pass_code(self):\n",
    "        return self.__pass_code\n",
    "    \n",
    "    def tax(self):\n",
    "        print(self.tax_value*self.price)\n",
    "    \n",
    "    def greating(self):\n",
    "        if self.__pass_code==\"admin\":\n",
    "            print(\"Welcome to your car \"+self.owner)\n",
    "\n",
    "flan=police_car(\"Vaxo\",100,\"admin\")\n",
    "flan.tax()\n",
    "flan.greating()\n",
    "flan.owner\n",
    "#flan.pass_code\n",
    "flan._police_car__pass_code"
   ]
  },
  {
   "cell_type": "code",
   "execution_count": 122,
   "metadata": {},
   "outputs": [
    {
     "name": "stdout",
     "output_type": "stream",
     "text": [
      "not sunday\n"
     ]
    }
   ],
   "source": [
    "#Assertions\n",
    "#1\n",
    "def alarm(day):\n",
    "    assert day!=\"sunday\", \"i wont wake you up today\"\n",
    "    print('not sunday')\n",
    "alarm(\"sund\")"
   ]
  },
  {
   "cell_type": "code",
   "execution_count": 129,
   "metadata": {},
   "outputs": [
    {
     "name": "stdout",
     "output_type": "stream",
     "text": [
      "arguments of type int requeid\n"
     ]
    }
   ],
   "source": [
    "#2\n",
    "def sum(x,y):\n",
    "    try:\n",
    "        print(x+y)\n",
    "    except TypeError:                               \n",
    "        print(\"arguments of type int requeid\")\n",
    "sum(4,\"das\")\n"
   ]
  },
  {
   "cell_type": "code",
   "execution_count": 135,
   "metadata": {},
   "outputs": [
    {
     "name": "stdout",
     "output_type": "stream",
     "text": [
      "8\n"
     ]
    }
   ],
   "source": [
    "#2\n",
    "def sum(x,y):\n",
    "    \n",
    "    assert type(x) != int or type(y) == int ,\"arguments of type int requeid\"\n",
    "    print(x+y)                               \n",
    "sum(4,4)\n"
   ]
  },
  {
   "cell_type": "code",
   "execution_count": 145,
   "metadata": {},
   "outputs": [
    {
     "name": "stdout",
     "output_type": "stream",
     "text": [
      "fmkdfksda\n"
     ]
    }
   ],
   "source": [
    "#exceptions\n",
    "#1\n",
    "def div(x,y):\n",
    "    try:\n",
    "        print(x/y)\n",
    "    except Exception:\n",
    "        print(\"fmkdfksda\")\n",
    "div(3,0)"
   ]
  },
  {
   "cell_type": "code",
   "execution_count": 160,
   "metadata": {},
   "outputs": [
    {
     "name": "stdout",
     "output_type": "stream",
     "text": [
      "TypeError\n",
      "ZeroDivisionError\n",
      "0.5\n"
     ]
    }
   ],
   "source": [
    "#3\n",
    "list1=[\"a\",0,2]\n",
    "for num in list1:\n",
    "    try:\n",
    "        print(1/num)\n",
    "    except TypeError:\n",
    "        print(\"TypeError\")\n",
    "    except ZeroDivisionError:\n",
    "        print(\"ZeroDivisionError\")"
   ]
  },
  {
   "cell_type": "code",
   "execution_count": 173,
   "metadata": {
    "scrolled": true
   },
   "outputs": [
    {
     "name": "stdout",
     "output_type": "stream",
     "text": [
      "uzum emRambo\n",
      "Rambo is an invalid username\n"
     ]
    }
   ],
   "source": [
    "#4\n",
    "username=input(\"uzum em\")\n",
    "try:\n",
    "    if username!=\"Rambo\":\n",
    "        print(\"welcome \"+ username)\n",
    "    else:\n",
    "        raise Exception\n",
    "        \n",
    "except Exception:\n",
    "    print(\"Rambo is an invalid username\")"
   ]
  },
  {
   "cell_type": "code",
   "execution_count": null,
   "metadata": {
    "scrolled": true
   },
   "outputs": [],
   "source": [
    "HOMEWORK\n",
    "#1\n"
   ]
  }
 ],
 "metadata": {
  "kernelspec": {
   "display_name": "Python 3",
   "language": "python",
   "name": "python3"
  },
  "language_info": {
   "codemirror_mode": {
    "name": "ipython",
    "version": 3
   },
   "file_extension": ".py",
   "mimetype": "text/x-python",
   "name": "python",
   "nbconvert_exporter": "python",
   "pygments_lexer": "ipython3",
   "version": "3.7.3"
  }
 },
 "nbformat": 4,
 "nbformat_minor": 2
}
