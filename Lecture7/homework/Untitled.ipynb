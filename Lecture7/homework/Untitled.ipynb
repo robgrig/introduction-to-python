{
 "cells": [
  {
   "cell_type": "code",
   "execution_count": 102,
   "metadata": {},
   "outputs": [
    {
     "name": "stdout",
     "output_type": "stream",
     "text": [
      "8\n",
      "-2\n",
      "15\n"
     ]
    }
   ],
   "source": [
    "class calculation:\n",
    "    def __init__(self,x,y):\n",
    "        self.x=x\n",
    "        self.y=y\n",
    "    def addition(self):\n",
    "        print(self.x+self.y)\n",
    "    def subtraction(self):\n",
    "        print( self.x-self.y)\n",
    "\n",
    "\n",
    "class mycalculation(calculation): \n",
    "    def __init__(self,x,y):\n",
    "        calculation.__init__(self,x,y)\n",
    "        \n",
    "    def multiplication(self):\n",
    "        print(self.x*self.y)\n",
    "        \n",
    "   # def division(self):\n",
    "     #   print(self.x/self.y)\n",
    "        \n",
    "a=mycalculation(3,5)\n",
    "a.addition()\n",
    "a.subtraction()\n",
    "a.multiplication()\n"
   ]
  },
  {
   "cell_type": "code",
   "execution_count": 123,
   "metadata": {},
   "outputs": [
    {
     "name": "stdout",
     "output_type": "stream",
     "text": [
      "the current time is fd\n",
      "the current date is fsd\n"
     ]
    }
   ],
   "source": [
    "class my_time:\n",
    "    def __init__(self,t):\n",
    "        self.t=t\n",
    "    def printtime(self):\n",
    "        print(\"the current time is\",self.t)\n",
    "#a=my_time(\"10pm\")\n",
    "#a.printtime()\n",
    "\n",
    "class my_date:\n",
    "    def __init__(self,d):\n",
    "        self.d=d\n",
    "    def printdate(self):\n",
    "        print(\"the current date is\", self.d)\n",
    "#b=my_date(\"32234\")\n",
    "#b.printdate()\n",
    "\n",
    "class date_time(my_time,my_date):\n",
    "    def __init__(self,t,d):\n",
    "        my_time. __init__(self,t)\n",
    "        my_date. __init__(self,d)\n",
    "c=date_time(\"fd\",\"fsd\")\n",
    "c.printtime()\n",
    "c.printdate()"
   ]
  },
  {
   "cell_type": "code",
   "execution_count": 133,
   "metadata": {},
   "outputs": [
    {
     "data": {
      "text/plain": [
       "array([[8, 8, 2, 8, 4],\n",
       "       [6, 2, 2, 6, 1],\n",
       "       [2, 8, 9, 3, 4]])"
      ]
     },
     "execution_count": 133,
     "metadata": {},
     "output_type": "execute_result"
    }
   ],
   "source": [
    "import numpy as np\n",
    "\n",
    "np.random.randint(1,10,15).reshape(3,5)"
   ]
  },
  {
   "cell_type": "code",
   "execution_count": 140,
   "metadata": {},
   "outputs": [
    {
     "name": "stdout",
     "output_type": "stream",
     "text": [
      "[0. 0. 0. 0. 0. 0. 0. 0. 0. 0.]\n",
      "[0. 0. 0. 0. 0. 3. 0. 0. 0. 0.]\n"
     ]
    }
   ],
   "source": [
    "a=np.zeros(10)\n",
    "print(a)\n",
    "a[5]=3\n",
    "print(a)"
   ]
  },
  {
   "cell_type": "code",
   "execution_count": 145,
   "metadata": {},
   "outputs": [
    {
     "data": {
      "text/plain": [
       "array([ 3,  4,  5,  6,  7,  8,  9, 10, 11, 12, 13, 14])"
      ]
     },
     "execution_count": 145,
     "metadata": {},
     "output_type": "execute_result"
    }
   ],
   "source": [
    "np.arange(3,15)"
   ]
  },
  {
   "cell_type": "code",
   "execution_count": 160,
   "metadata": {},
   "outputs": [
    {
     "name": "stdout",
     "output_type": "stream",
     "text": [
      "[1 3 5 2 4 5]\n",
      "[[1 3]\n",
      " [5 2]\n",
      " [4 5]]\n",
      "[[1 3 5]\n",
      " [2 4 5]]\n"
     ]
    }
   ],
   "source": [
    "a=np.array([1,3,5,2,4,5])\n",
    "print(a)\n",
    "b=a.reshape(3,2)\n",
    "c=a.reshape(2,3)\n",
    "print(b)\n",
    "print(c)"
   ]
  },
  {
   "cell_type": "code",
   "execution_count": 196,
   "metadata": {},
   "outputs": [
    {
     "name": "stdout",
     "output_type": "stream",
     "text": [
      "13.0\n",
      "[ 0.25  1.    1.25 11.    0.75  5.25]\n"
     ]
    }
   ],
   "source": [
    "a=np.array([1,4,5,44,3,21])\n",
    "mid=np.sum(a)/len(a)\n",
    "print(mid)\n",
    "while mid>5:\n",
    "    a=a/2\n",
    "    mid=np.sum(a)/len(a)\n",
    "print(a)"
   ]
  },
  {
   "cell_type": "code",
   "execution_count": 203,
   "metadata": {},
   "outputs": [
    {
     "name": "stdout",
     "output_type": "stream",
     "text": [
      "[[6 1 8 2]\n",
      " [4 2 1 4]\n",
      " [7 9 7 6]\n",
      " [1 6 9 9]\n",
      " [8 9 3 4]]\n",
      "6\n",
      "4\n",
      "7\n",
      "1\n",
      "8\n",
      "1\n",
      "2\n",
      "9\n",
      "6\n",
      "9\n",
      "8\n",
      "1\n",
      "7\n",
      "9\n",
      "3\n",
      "2\n",
      "4\n",
      "6\n",
      "9\n",
      "4\n"
     ]
    }
   ],
   "source": [
    "a=np.random.randint(1,10,20).reshape(5,4)\n",
    "print(a)\n",
    "for j in range (4):\n",
    "    for i in range (5):\n",
    "        print(a[i][j])\n",
    "    "
   ]
  }
 ],
 "metadata": {
  "kernelspec": {
   "display_name": "Python 3",
   "language": "python",
   "name": "python3"
  },
  "language_info": {
   "codemirror_mode": {
    "name": "ipython",
    "version": 3
   },
   "file_extension": ".py",
   "mimetype": "text/x-python",
   "name": "python",
   "nbconvert_exporter": "python",
   "pygments_lexer": "ipython3",
   "version": "3.7.3"
  }
 },
 "nbformat": 4,
 "nbformat_minor": 2
}
