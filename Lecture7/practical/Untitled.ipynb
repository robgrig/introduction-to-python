{
 "cells": [
  {
   "cell_type": "code",
   "execution_count": 150,
   "metadata": {},
   "outputs": [
    {
     "name": "stdout",
     "output_type": "stream",
     "text": [
      "i can move\n"
     ]
    }
   ],
   "source": [
    "#1\n",
    "class animal:\n",
    "    def __init__(self,name):\n",
    "        self.name=name\n",
    "    def move(self):\n",
    "        print(\"i can move\")\n",
    "    \n",
    "a=animal(\"dsa\")\n",
    "a.move()"
   ]
  },
  {
   "cell_type": "code",
   "execution_count": 154,
   "metadata": {},
   "outputs": [
    {
     "name": "stdout",
     "output_type": "stream",
     "text": [
      "i can move\n",
      "i can run really fast\n",
      "i can move\n"
     ]
    }
   ],
   "source": [
    "class dog(animal):\n",
    "    def __init__(self):\n",
    "        animal.__init__(self,\"dog\")\n",
    "    def move(self):\n",
    "        animal.move(self)\n",
    "        print(\"i can run really fast\")\n",
    "b=dog() \n",
    "b.move()\n",
    "animal.move(\"das\")"
   ]
  },
  {
   "cell_type": "code",
   "execution_count": 161,
   "metadata": {},
   "outputs": [
    {
     "name": "stdout",
     "output_type": "stream",
     "text": [
      "my name is  shun\n",
      "i have 4  legs\n"
     ]
    }
   ],
   "source": [
    "#2\n",
    "class animal:\n",
    "    def __init__(self,name,legs):\n",
    "        self.name=name\n",
    "        self.legs=legs\n",
    "    def getname(self):\n",
    "        print(\"my name is \", self.name)\n",
    "    def getlegs(self):\n",
    "        print(\"i have\",self.legs,\" legs\")\n",
    "a=animal(\"shun\",4)\n",
    "a.getname()\n",
    "a.getlegs()"
   ]
  },
  {
   "cell_type": "code",
   "execution_count": 181,
   "metadata": {},
   "outputs": [
    {
     "name": "stdout",
     "output_type": "stream",
     "text": [
      "my name is  exnik\n",
      "i have 4  legs\n"
     ]
    }
   ],
   "source": [
    "class exnik(animal):\n",
    "    def __init__(self):\n",
    "        animal.__init__ (self,\"exnik\",4)\n",
    "    \n",
    "b=exnik()\n",
    "b.getname()\n",
    "b.getlegs()"
   ]
  },
  {
   "cell_type": "code",
   "execution_count": 196,
   "metadata": {},
   "outputs": [
    {
     "name": "stdout",
     "output_type": "stream",
     "text": [
      "ican fly\n"
     ]
    }
   ],
   "source": [
    "#3\n",
    "from abc import ABC, abstractmethod\n",
    "class bird(ABC):\n",
    "    @abstractmethod\n",
    "    def __init__(self,name,weight):\n",
    "        self.name=name\n",
    "        self.weight=weight\n",
    "    \n",
    "    @abstractmethod\n",
    "    def fly(self):\n",
    "        pass\n",
    "\n",
    "        \n",
    "class hav(bird):\n",
    "    def __init__(self,name,weight):\n",
    "        bird.__init__(self,name,weight)\n",
    "    def fly(self):\n",
    "        print(\"ican fly\")\n",
    "\n",
    "a=hav(\"dsa\",\"dds\")\n",
    "a.fly()\n",
    "    "
   ]
  },
  {
   "cell_type": "code",
   "execution_count": 6,
   "metadata": {},
   "outputs": [
    {
     "name": "stdout",
     "output_type": "stream",
     "text": [
      "the model of the vehicle is  BMW\n",
      "the color of vehile is  red\n"
     ]
    }
   ],
   "source": [
    "#4\n",
    "class MODEL:\n",
    "    def __init__(self,name):\n",
    "        self.name=name\n",
    "    def printmodel(self):\n",
    "        print(\"the model of the vehicle is \",self.name)\n",
    "\n",
    "class COLOR:\n",
    "    def __init__(self,color):\n",
    "        self.color=color\n",
    "    def printcolor(self):\n",
    "        print(\"the color of vehile is \", self.color)\n",
    "        \n",
    "class CAR(MODEL,COLOR):\n",
    "    def __init__(self,model,color):\n",
    "        MODEL.__init__(self,model)\n",
    "        COLOR.__init__(self,color)\n",
    "        \n",
    "a=CAR(\"BMW\",\"red\")\n",
    "a.printmodel()\n",
    "a.printcolor()"
   ]
  }
 ],
 "metadata": {
  "kernelspec": {
   "display_name": "Python 3",
   "language": "python",
   "name": "python3"
  },
  "language_info": {
   "codemirror_mode": {
    "name": "ipython",
    "version": 3
   },
   "file_extension": ".py",
   "mimetype": "text/x-python",
   "name": "python",
   "nbconvert_exporter": "python",
   "pygments_lexer": "ipython3",
   "version": "3.7.3"
  }
 },
 "nbformat": 4,
 "nbformat_minor": 2
}
